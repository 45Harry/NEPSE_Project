{
 "cells": [
  {
   "cell_type": "code",
   "execution_count": 42,
   "id": "295667e9",
   "metadata": {},
   "outputs": [],
   "source": [
    "import pandas as pd\n",
    "import numpy as np\n",
    "import torch\n",
    "import torch.nn as nn"
   ]
  },
  {
   "cell_type": "code",
   "execution_count": 43,
   "id": "83acc33c",
   "metadata": {},
   "outputs": [],
   "source": [
    "df = pd.read_csv('../output.csv')"
   ]
  },
  {
   "cell_type": "code",
   "execution_count": 44,
   "id": "d5e7ce93",
   "metadata": {},
   "outputs": [
    {
     "data": {
      "text/html": [
       "<div>\n",
       "<style scoped>\n",
       "    .dataframe tbody tr th:only-of-type {\n",
       "        vertical-align: middle;\n",
       "    }\n",
       "\n",
       "    .dataframe tbody tr th {\n",
       "        vertical-align: top;\n",
       "    }\n",
       "\n",
       "    .dataframe thead th {\n",
       "        text-align: right;\n",
       "    }\n",
       "</style>\n",
       "<table border=\"1\" class=\"dataframe\">\n",
       "  <thead>\n",
       "    <tr style=\"text-align: right;\">\n",
       "      <th></th>\n",
       "      <th>s</th>\n",
       "      <th>o</th>\n",
       "      <th>h</th>\n",
       "      <th>l</th>\n",
       "      <th>c</th>\n",
       "      <th>v</th>\n",
       "      <th>t</th>\n",
       "    </tr>\n",
       "  </thead>\n",
       "  <tbody>\n",
       "    <tr>\n",
       "      <th>0</th>\n",
       "      <td>ok</td>\n",
       "      <td>173.26</td>\n",
       "      <td>173.26</td>\n",
       "      <td>173.26</td>\n",
       "      <td>173.26</td>\n",
       "      <td>0.0</td>\n",
       "      <td>869356800</td>\n",
       "    </tr>\n",
       "    <tr>\n",
       "      <th>1</th>\n",
       "      <td>ok</td>\n",
       "      <td>173.25</td>\n",
       "      <td>173.25</td>\n",
       "      <td>173.25</td>\n",
       "      <td>173.25</td>\n",
       "      <td>0.0</td>\n",
       "      <td>869443200</td>\n",
       "    </tr>\n",
       "    <tr>\n",
       "      <th>2</th>\n",
       "      <td>ok</td>\n",
       "      <td>173.03</td>\n",
       "      <td>173.03</td>\n",
       "      <td>173.03</td>\n",
       "      <td>173.03</td>\n",
       "      <td>0.0</td>\n",
       "      <td>869529600</td>\n",
       "    </tr>\n",
       "    <tr>\n",
       "      <th>3</th>\n",
       "      <td>ok</td>\n",
       "      <td>173.03</td>\n",
       "      <td>173.03</td>\n",
       "      <td>173.03</td>\n",
       "      <td>173.03</td>\n",
       "      <td>0.0</td>\n",
       "      <td>869616000</td>\n",
       "    </tr>\n",
       "    <tr>\n",
       "      <th>4</th>\n",
       "      <td>ok</td>\n",
       "      <td>172.66</td>\n",
       "      <td>172.66</td>\n",
       "      <td>172.66</td>\n",
       "      <td>172.66</td>\n",
       "      <td>0.0</td>\n",
       "      <td>869702400</td>\n",
       "    </tr>\n",
       "  </tbody>\n",
       "</table>\n",
       "</div>"
      ],
      "text/plain": [
       "    s       o       h       l       c    v          t\n",
       "0  ok  173.26  173.26  173.26  173.26  0.0  869356800\n",
       "1  ok  173.25  173.25  173.25  173.25  0.0  869443200\n",
       "2  ok  173.03  173.03  173.03  173.03  0.0  869529600\n",
       "3  ok  173.03  173.03  173.03  173.03  0.0  869616000\n",
       "4  ok  172.66  172.66  172.66  172.66  0.0  869702400"
      ]
     },
     "execution_count": 44,
     "metadata": {},
     "output_type": "execute_result"
    }
   ],
   "source": [
    "df.head()"
   ]
  },
  {
   "cell_type": "code",
   "execution_count": 45,
   "id": "a19b40c9",
   "metadata": {},
   "outputs": [
    {
     "data": {
      "text/plain": [
       "(6329, 7)"
      ]
     },
     "execution_count": 45,
     "metadata": {},
     "output_type": "execute_result"
    }
   ],
   "source": [
    "df.shape"
   ]
  },
  {
   "cell_type": "code",
   "execution_count": 46,
   "id": "fa20fc9b",
   "metadata": {},
   "outputs": [
    {
     "data": {
      "text/plain": [
       "Index(['s', 'o', 'h', 'l', 'c', 'v', 't'], dtype='object')"
      ]
     },
     "execution_count": 46,
     "metadata": {},
     "output_type": "execute_result"
    }
   ],
   "source": [
    "df.columns"
   ]
  },
  {
   "cell_type": "code",
   "execution_count": 47,
   "id": "840a407b",
   "metadata": {},
   "outputs": [
    {
     "data": {
      "text/html": [
       "<div>\n",
       "<style scoped>\n",
       "    .dataframe tbody tr th:only-of-type {\n",
       "        vertical-align: middle;\n",
       "    }\n",
       "\n",
       "    .dataframe tbody tr th {\n",
       "        vertical-align: top;\n",
       "    }\n",
       "\n",
       "    .dataframe thead th {\n",
       "        text-align: right;\n",
       "    }\n",
       "</style>\n",
       "<table border=\"1\" class=\"dataframe\">\n",
       "  <thead>\n",
       "    <tr style=\"text-align: right;\">\n",
       "      <th></th>\n",
       "      <th>s</th>\n",
       "      <th>opening_price</th>\n",
       "      <th>high_price</th>\n",
       "      <th>lowest_price</th>\n",
       "      <th>closing_price</th>\n",
       "      <th>volume</th>\n",
       "      <th>timestamp</th>\n",
       "    </tr>\n",
       "  </thead>\n",
       "  <tbody>\n",
       "    <tr>\n",
       "      <th>0</th>\n",
       "      <td>ok</td>\n",
       "      <td>173.26</td>\n",
       "      <td>173.26</td>\n",
       "      <td>173.26</td>\n",
       "      <td>173.26</td>\n",
       "      <td>0.0</td>\n",
       "      <td>869356800</td>\n",
       "    </tr>\n",
       "    <tr>\n",
       "      <th>1</th>\n",
       "      <td>ok</td>\n",
       "      <td>173.25</td>\n",
       "      <td>173.25</td>\n",
       "      <td>173.25</td>\n",
       "      <td>173.25</td>\n",
       "      <td>0.0</td>\n",
       "      <td>869443200</td>\n",
       "    </tr>\n",
       "    <tr>\n",
       "      <th>2</th>\n",
       "      <td>ok</td>\n",
       "      <td>173.03</td>\n",
       "      <td>173.03</td>\n",
       "      <td>173.03</td>\n",
       "      <td>173.03</td>\n",
       "      <td>0.0</td>\n",
       "      <td>869529600</td>\n",
       "    </tr>\n",
       "    <tr>\n",
       "      <th>3</th>\n",
       "      <td>ok</td>\n",
       "      <td>173.03</td>\n",
       "      <td>173.03</td>\n",
       "      <td>173.03</td>\n",
       "      <td>173.03</td>\n",
       "      <td>0.0</td>\n",
       "      <td>869616000</td>\n",
       "    </tr>\n",
       "    <tr>\n",
       "      <th>4</th>\n",
       "      <td>ok</td>\n",
       "      <td>172.66</td>\n",
       "      <td>172.66</td>\n",
       "      <td>172.66</td>\n",
       "      <td>172.66</td>\n",
       "      <td>0.0</td>\n",
       "      <td>869702400</td>\n",
       "    </tr>\n",
       "  </tbody>\n",
       "</table>\n",
       "</div>"
      ],
      "text/plain": [
       "    s  opening_price  high_price  lowest_price  closing_price  volume  \\\n",
       "0  ok         173.26      173.26        173.26         173.26     0.0   \n",
       "1  ok         173.25      173.25        173.25         173.25     0.0   \n",
       "2  ok         173.03      173.03        173.03         173.03     0.0   \n",
       "3  ok         173.03      173.03        173.03         173.03     0.0   \n",
       "4  ok         172.66      172.66        172.66         172.66     0.0   \n",
       "\n",
       "   timestamp  \n",
       "0  869356800  \n",
       "1  869443200  \n",
       "2  869529600  \n",
       "3  869616000  \n",
       "4  869702400  "
      ]
     },
     "execution_count": 47,
     "metadata": {},
     "output_type": "execute_result"
    }
   ],
   "source": [
    "df= df.rename(columns={'s':'s',\"o\":'opening_price','h':'high_price','l':'lowest_price','c':'closing_price','v':'volume','t':'timestamp'})\n",
    "df.head()"
   ]
  },
  {
   "cell_type": "code",
   "execution_count": 48,
   "id": "7451f63a",
   "metadata": {},
   "outputs": [],
   "source": [
    "df.drop(['s'],axis = 1,inplace=True)"
   ]
  },
  {
   "cell_type": "code",
   "execution_count": 49,
   "id": "a8febbf2",
   "metadata": {},
   "outputs": [
    {
     "name": "stdout",
     "output_type": "stream",
     "text": [
      "<class 'pandas.core.frame.DataFrame'>\n",
      "RangeIndex: 6329 entries, 0 to 6328\n",
      "Data columns (total 6 columns):\n",
      " #   Column         Non-Null Count  Dtype  \n",
      "---  ------         --------------  -----  \n",
      " 0   opening_price  6329 non-null   float64\n",
      " 1   high_price     6329 non-null   float64\n",
      " 2   lowest_price   6329 non-null   float64\n",
      " 3   closing_price  6329 non-null   float64\n",
      " 4   volume         6329 non-null   float64\n",
      " 5   timestamp      6329 non-null   int64  \n",
      "dtypes: float64(5), int64(1)\n",
      "memory usage: 296.8 KB\n"
     ]
    }
   ],
   "source": [
    "df.info()"
   ]
  },
  {
   "cell_type": "code",
   "execution_count": 50,
   "id": "8c7b8a7c",
   "metadata": {},
   "outputs": [
    {
     "data": {
      "text/html": [
       "<div>\n",
       "<style scoped>\n",
       "    .dataframe tbody tr th:only-of-type {\n",
       "        vertical-align: middle;\n",
       "    }\n",
       "\n",
       "    .dataframe tbody tr th {\n",
       "        vertical-align: top;\n",
       "    }\n",
       "\n",
       "    .dataframe thead th {\n",
       "        text-align: right;\n",
       "    }\n",
       "</style>\n",
       "<table border=\"1\" class=\"dataframe\">\n",
       "  <thead>\n",
       "    <tr style=\"text-align: right;\">\n",
       "      <th></th>\n",
       "      <th>opening_price</th>\n",
       "      <th>high_price</th>\n",
       "      <th>lowest_price</th>\n",
       "      <th>closing_price</th>\n",
       "      <th>volume</th>\n",
       "      <th>timestamp</th>\n",
       "    </tr>\n",
       "  </thead>\n",
       "  <tbody>\n",
       "    <tr>\n",
       "      <th>count</th>\n",
       "      <td>6329.000000</td>\n",
       "      <td>6329.000000</td>\n",
       "      <td>6329.000000</td>\n",
       "      <td>6329.000000</td>\n",
       "      <td>6.329000e+03</td>\n",
       "      <td>6.329000e+03</td>\n",
       "    </tr>\n",
       "    <tr>\n",
       "      <th>mean</th>\n",
       "      <td>944.901435</td>\n",
       "      <td>949.804121</td>\n",
       "      <td>939.267383</td>\n",
       "      <td>944.162002</td>\n",
       "      <td>1.031748e+09</td>\n",
       "      <td>1.314714e+09</td>\n",
       "    </tr>\n",
       "    <tr>\n",
       "      <th>std</th>\n",
       "      <td>778.576378</td>\n",
       "      <td>785.827006</td>\n",
       "      <td>769.801524</td>\n",
       "      <td>777.129855</td>\n",
       "      <td>2.667614e+09</td>\n",
       "      <td>2.546312e+08</td>\n",
       "    </tr>\n",
       "    <tr>\n",
       "      <th>min</th>\n",
       "      <td>156.430000</td>\n",
       "      <td>156.430000</td>\n",
       "      <td>156.430000</td>\n",
       "      <td>156.430000</td>\n",
       "      <td>0.000000e+00</td>\n",
       "      <td>8.693568e+08</td>\n",
       "    </tr>\n",
       "    <tr>\n",
       "      <th>25%</th>\n",
       "      <td>313.000000</td>\n",
       "      <td>313.000000</td>\n",
       "      <td>313.000000</td>\n",
       "      <td>313.000000</td>\n",
       "      <td>0.000000e+00</td>\n",
       "      <td>1.093392e+09</td>\n",
       "    </tr>\n",
       "    <tr>\n",
       "      <th>50%</th>\n",
       "      <td>634.000000</td>\n",
       "      <td>634.000000</td>\n",
       "      <td>634.000000</td>\n",
       "      <td>634.000000</td>\n",
       "      <td>0.000000e+00</td>\n",
       "      <td>1.316045e+09</td>\n",
       "    </tr>\n",
       "    <tr>\n",
       "      <th>75%</th>\n",
       "      <td>1391.030000</td>\n",
       "      <td>1402.210000</td>\n",
       "      <td>1382.330000</td>\n",
       "      <td>1391.030000</td>\n",
       "      <td>5.158190e+08</td>\n",
       "      <td>1.534637e+09</td>\n",
       "    </tr>\n",
       "    <tr>\n",
       "      <th>max</th>\n",
       "      <td>3208.530000</td>\n",
       "      <td>3227.110000</td>\n",
       "      <td>3178.250000</td>\n",
       "      <td>3198.190000</td>\n",
       "      <td>2.995852e+10</td>\n",
       "      <td>1.752106e+09</td>\n",
       "    </tr>\n",
       "  </tbody>\n",
       "</table>\n",
       "</div>"
      ],
      "text/plain": [
       "       opening_price   high_price  lowest_price  closing_price        volume  \\\n",
       "count    6329.000000  6329.000000   6329.000000    6329.000000  6.329000e+03   \n",
       "mean      944.901435   949.804121    939.267383     944.162002  1.031748e+09   \n",
       "std       778.576378   785.827006    769.801524     777.129855  2.667614e+09   \n",
       "min       156.430000   156.430000    156.430000     156.430000  0.000000e+00   \n",
       "25%       313.000000   313.000000    313.000000     313.000000  0.000000e+00   \n",
       "50%       634.000000   634.000000    634.000000     634.000000  0.000000e+00   \n",
       "75%      1391.030000  1402.210000   1382.330000    1391.030000  5.158190e+08   \n",
       "max      3208.530000  3227.110000   3178.250000    3198.190000  2.995852e+10   \n",
       "\n",
       "          timestamp  \n",
       "count  6.329000e+03  \n",
       "mean   1.314714e+09  \n",
       "std    2.546312e+08  \n",
       "min    8.693568e+08  \n",
       "25%    1.093392e+09  \n",
       "50%    1.316045e+09  \n",
       "75%    1.534637e+09  \n",
       "max    1.752106e+09  "
      ]
     },
     "execution_count": 50,
     "metadata": {},
     "output_type": "execute_result"
    }
   ],
   "source": [
    "df.describe()"
   ]
  },
  {
   "cell_type": "code",
   "execution_count": 51,
   "id": "74d90ba8",
   "metadata": {},
   "outputs": [],
   "source": [
    "df['volume'] = df['volume'].astype('int64')"
   ]
  },
  {
   "cell_type": "code",
   "execution_count": 52,
   "id": "07c3bf2f",
   "metadata": {},
   "outputs": [],
   "source": [
    "df.timestamp = pd.to_datetime(df.timestamp, unit='s')#.dt.tz_localize(\"Asia/Kathmandu\")"
   ]
  },
  {
   "cell_type": "code",
   "execution_count": 53,
   "id": "d94d98ba",
   "metadata": {},
   "outputs": [
    {
     "data": {
      "text/plain": [
       "0      1997-07-20\n",
       "1      1997-07-21\n",
       "2      1997-07-22\n",
       "3      1997-07-23\n",
       "4      1997-07-24\n",
       "          ...    \n",
       "6324   2025-07-06\n",
       "6325   2025-07-07\n",
       "6326   2025-07-08\n",
       "6327   2025-07-09\n",
       "6328   2025-07-10\n",
       "Name: timestamp, Length: 6329, dtype: datetime64[ns]"
      ]
     },
     "execution_count": 53,
     "metadata": {},
     "output_type": "execute_result"
    }
   ],
   "source": [
    "df.timestamp"
   ]
  },
  {
   "cell_type": "code",
   "execution_count": 54,
   "id": "b22334e2",
   "metadata": {},
   "outputs": [],
   "source": [
    "df = df.set_index('timestamp')"
   ]
  },
  {
   "cell_type": "code",
   "execution_count": 55,
   "id": "9c85fdec",
   "metadata": {},
   "outputs": [
    {
     "data": {
      "text/html": [
       "<div>\n",
       "<style scoped>\n",
       "    .dataframe tbody tr th:only-of-type {\n",
       "        vertical-align: middle;\n",
       "    }\n",
       "\n",
       "    .dataframe tbody tr th {\n",
       "        vertical-align: top;\n",
       "    }\n",
       "\n",
       "    .dataframe thead th {\n",
       "        text-align: right;\n",
       "    }\n",
       "</style>\n",
       "<table border=\"1\" class=\"dataframe\">\n",
       "  <thead>\n",
       "    <tr style=\"text-align: right;\">\n",
       "      <th></th>\n",
       "      <th>opening_price</th>\n",
       "      <th>high_price</th>\n",
       "      <th>lowest_price</th>\n",
       "      <th>closing_price</th>\n",
       "      <th>volume</th>\n",
       "    </tr>\n",
       "    <tr>\n",
       "      <th>timestamp</th>\n",
       "      <th></th>\n",
       "      <th></th>\n",
       "      <th></th>\n",
       "      <th></th>\n",
       "      <th></th>\n",
       "    </tr>\n",
       "  </thead>\n",
       "  <tbody>\n",
       "    <tr>\n",
       "      <th>2025-07-06</th>\n",
       "      <td>2708.24</td>\n",
       "      <td>2722.33</td>\n",
       "      <td>2697.32</td>\n",
       "      <td>2706.36</td>\n",
       "      <td>9500003268</td>\n",
       "    </tr>\n",
       "    <tr>\n",
       "      <th>2025-07-07</th>\n",
       "      <td>2715.40</td>\n",
       "      <td>2718.10</td>\n",
       "      <td>2680.45</td>\n",
       "      <td>2684.01</td>\n",
       "      <td>8377327147</td>\n",
       "    </tr>\n",
       "    <tr>\n",
       "      <th>2025-07-08</th>\n",
       "      <td>2683.77</td>\n",
       "      <td>2690.13</td>\n",
       "      <td>2662.59</td>\n",
       "      <td>2683.86</td>\n",
       "      <td>6574166814</td>\n",
       "    </tr>\n",
       "    <tr>\n",
       "      <th>2025-07-09</th>\n",
       "      <td>2679.37</td>\n",
       "      <td>2707.91</td>\n",
       "      <td>2679.16</td>\n",
       "      <td>2705.90</td>\n",
       "      <td>7451877102</td>\n",
       "    </tr>\n",
       "    <tr>\n",
       "      <th>2025-07-10</th>\n",
       "      <td>2709.09</td>\n",
       "      <td>2743.09</td>\n",
       "      <td>2706.89</td>\n",
       "      <td>2731.80</td>\n",
       "      <td>9682488739</td>\n",
       "    </tr>\n",
       "  </tbody>\n",
       "</table>\n",
       "</div>"
      ],
      "text/plain": [
       "            opening_price  high_price  lowest_price  closing_price      volume\n",
       "timestamp                                                                     \n",
       "2025-07-06        2708.24     2722.33       2697.32        2706.36  9500003268\n",
       "2025-07-07        2715.40     2718.10       2680.45        2684.01  8377327147\n",
       "2025-07-08        2683.77     2690.13       2662.59        2683.86  6574166814\n",
       "2025-07-09        2679.37     2707.91       2679.16        2705.90  7451877102\n",
       "2025-07-10        2709.09     2743.09       2706.89        2731.80  9682488739"
      ]
     },
     "execution_count": 55,
     "metadata": {},
     "output_type": "execute_result"
    }
   ],
   "source": [
    "df.tail()"
   ]
  },
  {
   "cell_type": "code",
   "execution_count": 56,
   "id": "535d07e3",
   "metadata": {},
   "outputs": [
    {
     "data": {
      "text/plain": [
       "opening_price    0\n",
       "high_price       0\n",
       "lowest_price     0\n",
       "closing_price    0\n",
       "volume           0\n",
       "dtype: int64"
      ]
     },
     "execution_count": 56,
     "metadata": {},
     "output_type": "execute_result"
    }
   ],
   "source": [
    "df.isnull().sum()"
   ]
  },
  {
   "cell_type": "code",
   "execution_count": 57,
   "id": "b9dfd560",
   "metadata": {},
   "outputs": [],
   "source": [
    "from sklearn.preprocessing import MinMaxScaler\n",
    "\n",
    "# Select the column you want to predict (typically 'Close' price)\n",
    "prices = df['closing_price'].values.reshape(-1, 1)\n",
    "\n",
    "# Normalize the data (critical for neural networks)\n",
    "scaler = MinMaxScaler(feature_range=(0, 1))\n",
    "scaled_prices = scaler.fit_transform(prices)"
   ]
  },
  {
   "cell_type": "code",
   "execution_count": 58,
   "id": "669c25c3",
   "metadata": {},
   "outputs": [],
   "source": [
    "def create_sequences(data, seq_length,pred_length=7):\n",
    "    xs, ys = [], []\n",
    "    for i in range(len(data)-seq_length-pred_length):\n",
    "        x = data[i:(i+seq_length)]\n",
    "        y = data[i+seq_length:(i+seq_length+pred_length)]\n",
    "        xs.append(x)        \n",
    "        ys.append(y)\n",
    "    return np.array(xs), np.array(ys)\n",
    "\n",
    "# Choose sequence length (e.g., 60 days)\n",
    "SEQ_LENGTH = 90\n",
    "PRED_LENGTH = 7  # Predict next 7 days YOU CAN CHANGE THIS AS PER YOUR NEEDS\n",
    "# Create sequences\n",
    "X, y = create_sequences(scaled_prices, SEQ_LENGTH, PRED_LENGTH)\n",
    "\n",
    "# Split into train and test sets\n",
    "train_size = int(len(X) * 0.8)\n",
    "X_train, X_test = X[:train_size], X[train_size:]\n",
    "y_train, y_test = y[:train_size], y[train_size:]"
   ]
  },
  {
   "cell_type": "code",
   "execution_count": 59,
   "id": "09ea7981",
   "metadata": {},
   "outputs": [],
   "source": [
    "def create_sequences(data, seq_length):\n",
    "    xs, ys = [], []\n",
    "    for i in range(len(data) - seq_length - 1):\n",
    "        x = data[i:(i + seq_length)]\n",
    "        y = data[i + seq_length]\n",
    "        xs.append(x)\n",
    "        ys.append(y)\n",
    "    return np.array(xs), np.array(ys)\n",
    "\n",
    "SEQ_LENGTH = 30\n",
    "X, y = create_sequences(scaled_prices, SEQ_LENGTH)\n",
    "train_size = int(len(X) * 0.8)\n",
    "\n",
    "X_train, X_test = X[:train_size], X[train_size:]\n",
    "y_train, y_test = y[:train_size], y[train_size:]"
   ]
  },
  {
   "cell_type": "code",
   "execution_count": 60,
   "id": "9d60cecc",
   "metadata": {},
   "outputs": [],
   "source": [
    "class StockPredictorLSTM(nn.Module):\n",
    "    def __init__(self, input_size=1, hidden_size=50, num_layers=1, output_size=7): # OUTPUT_SIZE IS 7 BECAUSE WE ARE PREDICTING NEXT 7 DAYS\n",
    "        super().__init__()\n",
    "        self.hidden_size = hidden_size\n",
    "        self.num_layers = num_layers\n",
    "        \n",
    "        self.lstm = nn.LSTM(input_size, hidden_size, num_layers, batch_first=True)\n",
    "        self.fc = nn.Linear(hidden_size, output_size)\n",
    "        \n",
    "    def forward(self, x):\n",
    "        # Initialize hidden state and cell state\n",
    "        h0 = torch.zeros(self.num_layers, x.size(0), self.hidden_size).requires_grad_()\n",
    "        c0 = torch.zeros(self.num_layers, x.size(0), self.hidden_size).requires_grad_()\n",
    "        \n",
    "        # Forward propagate LSTM\n",
    "        out, (hn, cn) = self.lstm(x, (h0.detach(), c0.detach()))\n",
    "        \n",
    "        # Decode the hidden state of the last time step\n",
    "        out = self.fc(out[:, -1, :])\n",
    "        return out"
   ]
  },
  {
   "cell_type": "code",
   "execution_count": null,
   "id": "e1af4b08",
   "metadata": {},
   "outputs": [],
   "source": []
  },
  {
   "cell_type": "code",
   "execution_count": 61,
   "id": "ae3c92eb",
   "metadata": {},
   "outputs": [
    {
     "name": "stderr",
     "output_type": "stream",
     "text": [
      "/home/harry/Documents/Code/Data_Science/DeepLearning/.venv_tf/lib/python3.12/site-packages/torch/nn/modules/loss.py:610: UserWarning: Using a target size (torch.Size([5038, 1])) that is different to the input size (torch.Size([5038, 7])). This will likely lead to incorrect results due to broadcasting. Please ensure they have the same size.\n",
      "  return F.mse_loss(input, target, reduction=self.reduction)\n"
     ]
    },
    {
     "name": "stdout",
     "output_type": "stream",
     "text": [
      "Epoch [10/100], Loss: 0.0425\n",
      "Epoch [20/100], Loss: 0.0185\n",
      "Epoch [30/100], Loss: 0.0159\n",
      "Epoch [40/100], Loss: 0.0149\n",
      "Epoch [50/100], Loss: 0.0122\n",
      "Epoch [60/100], Loss: 0.0072\n",
      "Epoch [70/100], Loss: 0.0025\n",
      "Epoch [80/100], Loss: 0.0021\n",
      "Epoch [90/100], Loss: 0.0013\n",
      "Epoch [100/100], Loss: 0.0008\n"
     ]
    }
   ],
   "source": [
    "X_train_tensor = torch.FloatTensor(X_train).reshape(-1, SEQ_LENGTH, 1)\n",
    "X_test_tensor = torch.FloatTensor(X_test).reshape(-1, SEQ_LENGTH, 1)\n",
    "y_train_tensor = torch.FloatTensor(y_train)\n",
    "y_test_tensor = torch.FloatTensor(y_test)\n",
    "\n",
    "# Ensure targets are (batch_size, 7)\n",
    "if y_train_tensor.ndim == 3:\n",
    "    y_train_tensor = y_train_tensor.squeeze(-1)\n",
    "    y_test_tensor = y_test_tensor.squeeze(-1)\n",
    "\n",
    "# Initialize model\n",
    "model = StockPredictorLSTM()\n",
    "criterion = nn.MSELoss()\n",
    "optimizer = torch.optim.Adam(model.parameters(), lr=0.001)\n",
    "\n",
    "# Training loop\n",
    "epochs = 100\n",
    "for epoch in range(epochs):\n",
    "    model.train()\n",
    "    optimizer.zero_grad()\n",
    "    \n",
    "    # Forward pass\n",
    "    outputs = model(X_train_tensor)\n",
    "    loss = criterion(outputs, y_train_tensor)\n",
    "    \n",
    "    # Backward pass and optimize\n",
    "    loss.backward()\n",
    "    optimizer.step()\n",
    "    \n",
    "    if (epoch+1) % 10 == 0:\n",
    "        print(f'Epoch [{epoch+1}/{epochs}], Loss: {loss.item():.4f}')"
   ]
  },
  {
   "cell_type": "code",
   "execution_count": 62,
   "id": "2b34907c",
   "metadata": {},
   "outputs": [
    {
     "name": "stdout",
     "output_type": "stream",
     "text": [
      "Test Loss: 0.0113\n"
     ]
    },
    {
     "name": "stderr",
     "output_type": "stream",
     "text": [
      "/home/harry/Documents/Code/Data_Science/DeepLearning/.venv_tf/lib/python3.12/site-packages/torch/nn/modules/loss.py:610: UserWarning: Using a target size (torch.Size([1260, 1])) that is different to the input size (torch.Size([1260, 7])). This will likely lead to incorrect results due to broadcasting. Please ensure they have the same size.\n",
      "  return F.mse_loss(input, target, reduction=self.reduction)\n"
     ]
    }
   ],
   "source": [
    "model.eval()\n",
    "with torch.no_grad():\n",
    "    test_outputs = model(X_test_tensor)\n",
    "    test_loss = criterion(test_outputs, y_test_tensor)\n",
    "    print(f'Test Loss: {test_loss.item():.4f}')\n",
    "    \n",
    "    # Inverse transform to get actual prices for all 7 days\n",
    "    predicted_prices = scaler.inverse_transform(test_outputs.numpy().reshape(-1, 1)).reshape(test_outputs.shape)\n",
    "    actual_prices = scaler.inverse_transform(y_test_tensor.numpy().reshape(-1, 1)).reshape(y_test_tensor.shape)"
   ]
  },
  {
   "cell_type": "code",
   "execution_count": 63,
   "id": "3fe2d7ed",
   "metadata": {},
   "outputs": [
    {
     "name": "stdout",
     "output_type": "stream",
     "text": [
      "Predicted prices for next 7 days: [2314.4744 2532.5593 2131.2893 2001.5463 2275.495  2353.185  2267.914 ]\n"
     ]
    }
   ],
   "source": [
    "def predict_next_seven_days(model, last_sequence, scaler):\n",
    "    model.eval()\n",
    "    with torch.no_grad():\n",
    "        last_sequence_tensor = torch.FloatTensor(last_sequence)\n",
    "        prediction = model(last_sequence_tensor)  # shape: (1, 7)\n",
    "        predicted_prices = scaler.inverse_transform(prediction.numpy().reshape(-1, 1)).flatten()\n",
    "    return predicted_prices\n",
    "\n",
    "# Get the last sequence from your data\n",
    "last_sequence = scaled_prices[-SEQ_LENGTH:].reshape(1, SEQ_LENGTH, 1)\n",
    "next_seven_days_prediction = predict_next_seven_days(model, last_sequence, scaler)\n",
    "print(\"Predicted prices for next 7 days:\", next_seven_days_prediction)"
   ]
  },
  {
   "cell_type": "code",
   "execution_count": null,
   "id": "c9ea21e0",
   "metadata": {},
   "outputs": [],
   "source": []
  },
  {
   "cell_type": "code",
   "execution_count": null,
   "id": "ebc8b308",
   "metadata": {},
   "outputs": [],
   "source": []
  },
  {
   "cell_type": "code",
   "execution_count": null,
   "id": "1e02c802",
   "metadata": {},
   "outputs": [],
   "source": []
  }
 ],
 "metadata": {
  "kernelspec": {
   "display_name": ".venv",
   "language": "python",
   "name": "python3"
  },
  "language_info": {
   "codemirror_mode": {
    "name": "ipython",
    "version": 3
   },
   "file_extension": ".py",
   "mimetype": "text/x-python",
   "name": "python",
   "nbconvert_exporter": "python",
   "pygments_lexer": "ipython3",
   "version": "3.13.5"
  }
 },
 "nbformat": 4,
 "nbformat_minor": 5
}
