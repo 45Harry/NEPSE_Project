{
 "cells": [
  {
   "cell_type": "code",
   "execution_count": null,
   "id": "6a1ab6fd",
   "metadata": {},
   "outputs": [
    {
     "ename": "",
     "evalue": "",
     "output_type": "error",
     "traceback": [
      "\u001b[1;31mRunning cells with 'Python' requires the ipykernel package.\n",
      "\u001b[1;31m<a href='command:jupyter.createPythonEnvAndSelectController'>Create a Python Environment</a> with the required packages.\n",
      "\u001b[1;31mOr install 'ipykernel' using the command: '/home/harry/Documents/MIT/.venv/bin/python -m pip install ipykernel -U --user --force-reinstall'"
     ]
    }
   ],
   "source": [
    "import cloudscraper\n",
    "\n",
    "def stock_data(request):\n",
    "    url = \"https://www.nepsealpha.com/trading/1/history\"\n",
    "    params = {\n",
    "        \"fsk\": \"rpEzO8wdmCtGJiAY\",\n",
    "        \"symbol\": request.GET.get(\"symbol\", \"\"), \n",
    "        \"resolution\": \"1D\",\n",
    "        \"pass\": \"ok\"\n",
    "    }\n",
    "    \n",
    "    try:\n",
    "        scraper = cloudscraper.create_scraper()\n",
    "        response = scraper.get(url, params=params)\n",
    "        response.raise_for_status()\n",
    "        return JsonResponse(response.json(), status=200)\n",
    "\n",
    "    except RequestException as e:\n",
    "        return JsonResponse({\"error\": str(e)}, status=500)\n",
    "if __name__ =='__main__':\n",
    "\n",
    "    data = stock_data()"
   ]
  },
  {
   "cell_type": "code",
   "execution_count": null,
   "id": "c5a6f3df",
   "metadata": {},
   "outputs": [
    {
     "ename": "",
     "evalue": "",
     "output_type": "error",
     "traceback": [
      "\u001b[1;31mRunning cells with 'Python' requires the ipykernel package.\n",
      "\u001b[1;31m<a href='command:jupyter.createPythonEnvAndSelectController'>Create a Python Environment</a> with the required packages.\n",
      "\u001b[1;31mOr install 'ipykernel' using the command: '/home/harry/Documents/MIT/.venv/bin/python -m pip install ipykernel -U --user --force-reinstall'"
     ]
    }
   ],
   "source": []
  },
  {
   "cell_type": "code",
   "execution_count": null,
   "id": "295667e9",
   "metadata": {},
   "outputs": [],
   "source": []
  }
 ],
 "metadata": {
  "kernelspec": {
   "display_name": "Python 3",
   "language": "python",
   "name": "python3"
  },
  "language_info": {
   "name": "python",
   "version": "3.13.5"
  }
 },
 "nbformat": 4,
 "nbformat_minor": 5
}
