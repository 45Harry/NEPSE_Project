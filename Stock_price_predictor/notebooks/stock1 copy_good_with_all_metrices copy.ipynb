{
 "cells": [
  {
   "cell_type": "code",
   "execution_count": 69,
   "id": "295667e9",
   "metadata": {},
   "outputs": [],
   "source": [
    "import pandas as pd\n",
    "import torch\n",
    "import torch.nn as nn"
   ]
  },
  {
   "cell_type": "code",
   "execution_count": 70,
   "id": "83acc33c",
   "metadata": {},
   "outputs": [],
   "source": [
    "df = pd.read_csv('../output.csv')"
   ]
  },
  {
   "cell_type": "code",
   "execution_count": 71,
   "id": "d5e7ce93",
   "metadata": {},
   "outputs": [
    {
     "data": {
      "text/html": [
       "<div>\n",
       "<style scoped>\n",
       "    .dataframe tbody tr th:only-of-type {\n",
       "        vertical-align: middle;\n",
       "    }\n",
       "\n",
       "    .dataframe tbody tr th {\n",
       "        vertical-align: top;\n",
       "    }\n",
       "\n",
       "    .dataframe thead th {\n",
       "        text-align: right;\n",
       "    }\n",
       "</style>\n",
       "<table border=\"1\" class=\"dataframe\">\n",
       "  <thead>\n",
       "    <tr style=\"text-align: right;\">\n",
       "      <th></th>\n",
       "      <th>s</th>\n",
       "      <th>o</th>\n",
       "      <th>h</th>\n",
       "      <th>l</th>\n",
       "      <th>c</th>\n",
       "      <th>v</th>\n",
       "      <th>t</th>\n",
       "    </tr>\n",
       "  </thead>\n",
       "  <tbody>\n",
       "    <tr>\n",
       "      <th>0</th>\n",
       "      <td>ok</td>\n",
       "      <td>173.26</td>\n",
       "      <td>173.26</td>\n",
       "      <td>173.26</td>\n",
       "      <td>173.26</td>\n",
       "      <td>0.0</td>\n",
       "      <td>869356800</td>\n",
       "    </tr>\n",
       "    <tr>\n",
       "      <th>1</th>\n",
       "      <td>ok</td>\n",
       "      <td>173.25</td>\n",
       "      <td>173.25</td>\n",
       "      <td>173.25</td>\n",
       "      <td>173.25</td>\n",
       "      <td>0.0</td>\n",
       "      <td>869443200</td>\n",
       "    </tr>\n",
       "    <tr>\n",
       "      <th>2</th>\n",
       "      <td>ok</td>\n",
       "      <td>173.03</td>\n",
       "      <td>173.03</td>\n",
       "      <td>173.03</td>\n",
       "      <td>173.03</td>\n",
       "      <td>0.0</td>\n",
       "      <td>869529600</td>\n",
       "    </tr>\n",
       "    <tr>\n",
       "      <th>3</th>\n",
       "      <td>ok</td>\n",
       "      <td>173.03</td>\n",
       "      <td>173.03</td>\n",
       "      <td>173.03</td>\n",
       "      <td>173.03</td>\n",
       "      <td>0.0</td>\n",
       "      <td>869616000</td>\n",
       "    </tr>\n",
       "    <tr>\n",
       "      <th>4</th>\n",
       "      <td>ok</td>\n",
       "      <td>172.66</td>\n",
       "      <td>172.66</td>\n",
       "      <td>172.66</td>\n",
       "      <td>172.66</td>\n",
       "      <td>0.0</td>\n",
       "      <td>869702400</td>\n",
       "    </tr>\n",
       "  </tbody>\n",
       "</table>\n",
       "</div>"
      ],
      "text/plain": [
       "    s       o       h       l       c    v          t\n",
       "0  ok  173.26  173.26  173.26  173.26  0.0  869356800\n",
       "1  ok  173.25  173.25  173.25  173.25  0.0  869443200\n",
       "2  ok  173.03  173.03  173.03  173.03  0.0  869529600\n",
       "3  ok  173.03  173.03  173.03  173.03  0.0  869616000\n",
       "4  ok  172.66  172.66  172.66  172.66  0.0  869702400"
      ]
     },
     "execution_count": 71,
     "metadata": {},
     "output_type": "execute_result"
    }
   ],
   "source": [
    "df.head()"
   ]
  },
  {
   "cell_type": "code",
   "execution_count": 72,
   "id": "a19b40c9",
   "metadata": {},
   "outputs": [
    {
     "data": {
      "text/plain": [
       "(6329, 7)"
      ]
     },
     "execution_count": 72,
     "metadata": {},
     "output_type": "execute_result"
    }
   ],
   "source": [
    "df.shape"
   ]
  },
  {
   "cell_type": "code",
   "execution_count": 73,
   "id": "fa20fc9b",
   "metadata": {},
   "outputs": [
    {
     "data": {
      "text/plain": [
       "Index(['s', 'o', 'h', 'l', 'c', 'v', 't'], dtype='object')"
      ]
     },
     "execution_count": 73,
     "metadata": {},
     "output_type": "execute_result"
    }
   ],
   "source": [
    "df.columns"
   ]
  },
  {
   "cell_type": "code",
   "execution_count": 74,
   "id": "840a407b",
   "metadata": {},
   "outputs": [
    {
     "data": {
      "text/html": [
       "<div>\n",
       "<style scoped>\n",
       "    .dataframe tbody tr th:only-of-type {\n",
       "        vertical-align: middle;\n",
       "    }\n",
       "\n",
       "    .dataframe tbody tr th {\n",
       "        vertical-align: top;\n",
       "    }\n",
       "\n",
       "    .dataframe thead th {\n",
       "        text-align: right;\n",
       "    }\n",
       "</style>\n",
       "<table border=\"1\" class=\"dataframe\">\n",
       "  <thead>\n",
       "    <tr style=\"text-align: right;\">\n",
       "      <th></th>\n",
       "      <th>s</th>\n",
       "      <th>opening_price</th>\n",
       "      <th>high_price</th>\n",
       "      <th>lowest_price</th>\n",
       "      <th>closing_price</th>\n",
       "      <th>volume</th>\n",
       "      <th>timestamp</th>\n",
       "    </tr>\n",
       "  </thead>\n",
       "  <tbody>\n",
       "    <tr>\n",
       "      <th>0</th>\n",
       "      <td>ok</td>\n",
       "      <td>173.26</td>\n",
       "      <td>173.26</td>\n",
       "      <td>173.26</td>\n",
       "      <td>173.26</td>\n",
       "      <td>0.0</td>\n",
       "      <td>869356800</td>\n",
       "    </tr>\n",
       "    <tr>\n",
       "      <th>1</th>\n",
       "      <td>ok</td>\n",
       "      <td>173.25</td>\n",
       "      <td>173.25</td>\n",
       "      <td>173.25</td>\n",
       "      <td>173.25</td>\n",
       "      <td>0.0</td>\n",
       "      <td>869443200</td>\n",
       "    </tr>\n",
       "    <tr>\n",
       "      <th>2</th>\n",
       "      <td>ok</td>\n",
       "      <td>173.03</td>\n",
       "      <td>173.03</td>\n",
       "      <td>173.03</td>\n",
       "      <td>173.03</td>\n",
       "      <td>0.0</td>\n",
       "      <td>869529600</td>\n",
       "    </tr>\n",
       "    <tr>\n",
       "      <th>3</th>\n",
       "      <td>ok</td>\n",
       "      <td>173.03</td>\n",
       "      <td>173.03</td>\n",
       "      <td>173.03</td>\n",
       "      <td>173.03</td>\n",
       "      <td>0.0</td>\n",
       "      <td>869616000</td>\n",
       "    </tr>\n",
       "    <tr>\n",
       "      <th>4</th>\n",
       "      <td>ok</td>\n",
       "      <td>172.66</td>\n",
       "      <td>172.66</td>\n",
       "      <td>172.66</td>\n",
       "      <td>172.66</td>\n",
       "      <td>0.0</td>\n",
       "      <td>869702400</td>\n",
       "    </tr>\n",
       "  </tbody>\n",
       "</table>\n",
       "</div>"
      ],
      "text/plain": [
       "    s  opening_price  high_price  lowest_price  closing_price  volume  \\\n",
       "0  ok         173.26      173.26        173.26         173.26     0.0   \n",
       "1  ok         173.25      173.25        173.25         173.25     0.0   \n",
       "2  ok         173.03      173.03        173.03         173.03     0.0   \n",
       "3  ok         173.03      173.03        173.03         173.03     0.0   \n",
       "4  ok         172.66      172.66        172.66         172.66     0.0   \n",
       "\n",
       "   timestamp  \n",
       "0  869356800  \n",
       "1  869443200  \n",
       "2  869529600  \n",
       "3  869616000  \n",
       "4  869702400  "
      ]
     },
     "execution_count": 74,
     "metadata": {},
     "output_type": "execute_result"
    }
   ],
   "source": [
    "df= df.rename(columns={'s':'s',\"o\":'opening_price','h':'high_price','l':'lowest_price','c':'closing_price','v':'volume','t':'timestamp'})\n",
    "df.head()"
   ]
  },
  {
   "cell_type": "code",
   "execution_count": 75,
   "id": "7451f63a",
   "metadata": {},
   "outputs": [],
   "source": [
    "df.drop(['s'],axis = 1,inplace=True)"
   ]
  },
  {
   "cell_type": "code",
   "execution_count": 76,
   "id": "a8febbf2",
   "metadata": {},
   "outputs": [
    {
     "name": "stdout",
     "output_type": "stream",
     "text": [
      "<class 'pandas.core.frame.DataFrame'>\n",
      "RangeIndex: 6329 entries, 0 to 6328\n",
      "Data columns (total 6 columns):\n",
      " #   Column         Non-Null Count  Dtype  \n",
      "---  ------         --------------  -----  \n",
      " 0   opening_price  6329 non-null   float64\n",
      " 1   high_price     6329 non-null   float64\n",
      " 2   lowest_price   6329 non-null   float64\n",
      " 3   closing_price  6329 non-null   float64\n",
      " 4   volume         6329 non-null   float64\n",
      " 5   timestamp      6329 non-null   int64  \n",
      "dtypes: float64(5), int64(1)\n",
      "memory usage: 296.8 KB\n"
     ]
    }
   ],
   "source": [
    "df.info()"
   ]
  },
  {
   "cell_type": "code",
   "execution_count": 77,
   "id": "8c7b8a7c",
   "metadata": {},
   "outputs": [
    {
     "data": {
      "text/html": [
       "<div>\n",
       "<style scoped>\n",
       "    .dataframe tbody tr th:only-of-type {\n",
       "        vertical-align: middle;\n",
       "    }\n",
       "\n",
       "    .dataframe tbody tr th {\n",
       "        vertical-align: top;\n",
       "    }\n",
       "\n",
       "    .dataframe thead th {\n",
       "        text-align: right;\n",
       "    }\n",
       "</style>\n",
       "<table border=\"1\" class=\"dataframe\">\n",
       "  <thead>\n",
       "    <tr style=\"text-align: right;\">\n",
       "      <th></th>\n",
       "      <th>opening_price</th>\n",
       "      <th>high_price</th>\n",
       "      <th>lowest_price</th>\n",
       "      <th>closing_price</th>\n",
       "      <th>volume</th>\n",
       "      <th>timestamp</th>\n",
       "    </tr>\n",
       "  </thead>\n",
       "  <tbody>\n",
       "    <tr>\n",
       "      <th>count</th>\n",
       "      <td>6329.000000</td>\n",
       "      <td>6329.000000</td>\n",
       "      <td>6329.000000</td>\n",
       "      <td>6329.000000</td>\n",
       "      <td>6.329000e+03</td>\n",
       "      <td>6.329000e+03</td>\n",
       "    </tr>\n",
       "    <tr>\n",
       "      <th>mean</th>\n",
       "      <td>944.901435</td>\n",
       "      <td>949.804121</td>\n",
       "      <td>939.267383</td>\n",
       "      <td>944.162002</td>\n",
       "      <td>1.031748e+09</td>\n",
       "      <td>1.314714e+09</td>\n",
       "    </tr>\n",
       "    <tr>\n",
       "      <th>std</th>\n",
       "      <td>778.576378</td>\n",
       "      <td>785.827006</td>\n",
       "      <td>769.801524</td>\n",
       "      <td>777.129855</td>\n",
       "      <td>2.667614e+09</td>\n",
       "      <td>2.546312e+08</td>\n",
       "    </tr>\n",
       "    <tr>\n",
       "      <th>min</th>\n",
       "      <td>156.430000</td>\n",
       "      <td>156.430000</td>\n",
       "      <td>156.430000</td>\n",
       "      <td>156.430000</td>\n",
       "      <td>0.000000e+00</td>\n",
       "      <td>8.693568e+08</td>\n",
       "    </tr>\n",
       "    <tr>\n",
       "      <th>25%</th>\n",
       "      <td>313.000000</td>\n",
       "      <td>313.000000</td>\n",
       "      <td>313.000000</td>\n",
       "      <td>313.000000</td>\n",
       "      <td>0.000000e+00</td>\n",
       "      <td>1.093392e+09</td>\n",
       "    </tr>\n",
       "    <tr>\n",
       "      <th>50%</th>\n",
       "      <td>634.000000</td>\n",
       "      <td>634.000000</td>\n",
       "      <td>634.000000</td>\n",
       "      <td>634.000000</td>\n",
       "      <td>0.000000e+00</td>\n",
       "      <td>1.316045e+09</td>\n",
       "    </tr>\n",
       "    <tr>\n",
       "      <th>75%</th>\n",
       "      <td>1391.030000</td>\n",
       "      <td>1402.210000</td>\n",
       "      <td>1382.330000</td>\n",
       "      <td>1391.030000</td>\n",
       "      <td>5.158190e+08</td>\n",
       "      <td>1.534637e+09</td>\n",
       "    </tr>\n",
       "    <tr>\n",
       "      <th>max</th>\n",
       "      <td>3208.530000</td>\n",
       "      <td>3227.110000</td>\n",
       "      <td>3178.250000</td>\n",
       "      <td>3198.190000</td>\n",
       "      <td>2.995852e+10</td>\n",
       "      <td>1.752106e+09</td>\n",
       "    </tr>\n",
       "  </tbody>\n",
       "</table>\n",
       "</div>"
      ],
      "text/plain": [
       "       opening_price   high_price  lowest_price  closing_price        volume  \\\n",
       "count    6329.000000  6329.000000   6329.000000    6329.000000  6.329000e+03   \n",
       "mean      944.901435   949.804121    939.267383     944.162002  1.031748e+09   \n",
       "std       778.576378   785.827006    769.801524     777.129855  2.667614e+09   \n",
       "min       156.430000   156.430000    156.430000     156.430000  0.000000e+00   \n",
       "25%       313.000000   313.000000    313.000000     313.000000  0.000000e+00   \n",
       "50%       634.000000   634.000000    634.000000     634.000000  0.000000e+00   \n",
       "75%      1391.030000  1402.210000   1382.330000    1391.030000  5.158190e+08   \n",
       "max      3208.530000  3227.110000   3178.250000    3198.190000  2.995852e+10   \n",
       "\n",
       "          timestamp  \n",
       "count  6.329000e+03  \n",
       "mean   1.314714e+09  \n",
       "std    2.546312e+08  \n",
       "min    8.693568e+08  \n",
       "25%    1.093392e+09  \n",
       "50%    1.316045e+09  \n",
       "75%    1.534637e+09  \n",
       "max    1.752106e+09  "
      ]
     },
     "execution_count": 77,
     "metadata": {},
     "output_type": "execute_result"
    }
   ],
   "source": [
    "df.describe()"
   ]
  },
  {
   "cell_type": "code",
   "execution_count": 78,
   "id": "74d90ba8",
   "metadata": {},
   "outputs": [],
   "source": [
    "df['volume'] = df['volume'].astype('int64')"
   ]
  },
  {
   "cell_type": "code",
   "execution_count": 79,
   "id": "07c3bf2f",
   "metadata": {},
   "outputs": [],
   "source": [
    "df.timestamp = pd.to_datetime(df.timestamp, unit='s')#.dt.tz_localize(\"Asia/Kathmandu\")"
   ]
  },
  {
   "cell_type": "code",
   "execution_count": 80,
   "id": "d94d98ba",
   "metadata": {},
   "outputs": [
    {
     "data": {
      "text/plain": [
       "0      1997-07-20\n",
       "1      1997-07-21\n",
       "2      1997-07-22\n",
       "3      1997-07-23\n",
       "4      1997-07-24\n",
       "          ...    \n",
       "6324   2025-07-06\n",
       "6325   2025-07-07\n",
       "6326   2025-07-08\n",
       "6327   2025-07-09\n",
       "6328   2025-07-10\n",
       "Name: timestamp, Length: 6329, dtype: datetime64[ns]"
      ]
     },
     "execution_count": 80,
     "metadata": {},
     "output_type": "execute_result"
    }
   ],
   "source": [
    "df.timestamp"
   ]
  },
  {
   "cell_type": "code",
   "execution_count": 81,
   "id": "b22334e2",
   "metadata": {},
   "outputs": [],
   "source": [
    "df = df.set_index('timestamp')"
   ]
  },
  {
   "cell_type": "code",
   "execution_count": 82,
   "id": "9c85fdec",
   "metadata": {},
   "outputs": [
    {
     "data": {
      "text/html": [
       "<div>\n",
       "<style scoped>\n",
       "    .dataframe tbody tr th:only-of-type {\n",
       "        vertical-align: middle;\n",
       "    }\n",
       "\n",
       "    .dataframe tbody tr th {\n",
       "        vertical-align: top;\n",
       "    }\n",
       "\n",
       "    .dataframe thead th {\n",
       "        text-align: right;\n",
       "    }\n",
       "</style>\n",
       "<table border=\"1\" class=\"dataframe\">\n",
       "  <thead>\n",
       "    <tr style=\"text-align: right;\">\n",
       "      <th></th>\n",
       "      <th>opening_price</th>\n",
       "      <th>high_price</th>\n",
       "      <th>lowest_price</th>\n",
       "      <th>closing_price</th>\n",
       "      <th>volume</th>\n",
       "    </tr>\n",
       "    <tr>\n",
       "      <th>timestamp</th>\n",
       "      <th></th>\n",
       "      <th></th>\n",
       "      <th></th>\n",
       "      <th></th>\n",
       "      <th></th>\n",
       "    </tr>\n",
       "  </thead>\n",
       "  <tbody>\n",
       "    <tr>\n",
       "      <th>2025-07-06</th>\n",
       "      <td>2708.24</td>\n",
       "      <td>2722.33</td>\n",
       "      <td>2697.32</td>\n",
       "      <td>2706.36</td>\n",
       "      <td>9500003268</td>\n",
       "    </tr>\n",
       "    <tr>\n",
       "      <th>2025-07-07</th>\n",
       "      <td>2715.40</td>\n",
       "      <td>2718.10</td>\n",
       "      <td>2680.45</td>\n",
       "      <td>2684.01</td>\n",
       "      <td>8377327147</td>\n",
       "    </tr>\n",
       "    <tr>\n",
       "      <th>2025-07-08</th>\n",
       "      <td>2683.77</td>\n",
       "      <td>2690.13</td>\n",
       "      <td>2662.59</td>\n",
       "      <td>2683.86</td>\n",
       "      <td>6574166814</td>\n",
       "    </tr>\n",
       "    <tr>\n",
       "      <th>2025-07-09</th>\n",
       "      <td>2679.37</td>\n",
       "      <td>2707.91</td>\n",
       "      <td>2679.16</td>\n",
       "      <td>2705.90</td>\n",
       "      <td>7451877102</td>\n",
       "    </tr>\n",
       "    <tr>\n",
       "      <th>2025-07-10</th>\n",
       "      <td>2709.09</td>\n",
       "      <td>2743.09</td>\n",
       "      <td>2706.89</td>\n",
       "      <td>2731.80</td>\n",
       "      <td>9682488739</td>\n",
       "    </tr>\n",
       "  </tbody>\n",
       "</table>\n",
       "</div>"
      ],
      "text/plain": [
       "            opening_price  high_price  lowest_price  closing_price      volume\n",
       "timestamp                                                                     \n",
       "2025-07-06        2708.24     2722.33       2697.32        2706.36  9500003268\n",
       "2025-07-07        2715.40     2718.10       2680.45        2684.01  8377327147\n",
       "2025-07-08        2683.77     2690.13       2662.59        2683.86  6574166814\n",
       "2025-07-09        2679.37     2707.91       2679.16        2705.90  7451877102\n",
       "2025-07-10        2709.09     2743.09       2706.89        2731.80  9682488739"
      ]
     },
     "execution_count": 82,
     "metadata": {},
     "output_type": "execute_result"
    }
   ],
   "source": [
    "df.tail()"
   ]
  },
  {
   "cell_type": "code",
   "execution_count": 83,
   "id": "535d07e3",
   "metadata": {},
   "outputs": [
    {
     "data": {
      "text/plain": [
       "opening_price    0\n",
       "high_price       0\n",
       "lowest_price     0\n",
       "closing_price    0\n",
       "volume           0\n",
       "dtype: int64"
      ]
     },
     "execution_count": 83,
     "metadata": {},
     "output_type": "execute_result"
    }
   ],
   "source": [
    "df.isnull().sum()"
   ]
  },
  {
   "cell_type": "code",
   "execution_count": 84,
   "id": "de051d70",
   "metadata": {},
   "outputs": [],
   "source": [
    "import numpy as np\n",
    "from sklearn.preprocessing import MinMaxScaler\n",
    "\n",
    "# Use all relevant columns as features\n",
    "feature_cols = ['opening_price', 'high_price', 'lowest_price', 'volume', 'closing_price']\n",
    "features = df[feature_cols].values\n",
    "\n",
    "target_col = 'closing_price'\n",
    "target_index = feature_cols.index(target_col)\n",
    "\n",
    "def create_multivariate_sequences(data, target_index, window_size=7):\n",
    "    sequences = []\n",
    "    targets = []\n",
    "    for i in range(len(data) - window_size):\n",
    "        seq = data[i:i + window_size]\n",
    "        label = data[i + window_size, target_index]  # closing_price of next day\n",
    "        sequences.append(seq)\n",
    "        targets.append(label)\n",
    "    return np.array(sequences), np.array(targets)\n",
    "\n",
    "# Normalize all features\n",
    "scaler = MinMaxScaler(feature_range=(0, 1))\n",
    "scaled_features = scaler.fit_transform(features)\n",
    "\n",
    "window_size = 7\n",
    "\n",
    "X, y = create_multivariate_sequences(scaled_features, target_index, window_size)\n",
    "\n",
    "# Split into train and test\n",
    "train_size = int(len(X) * 0.65)\n",
    "X_train, X_test = X[:train_size], X[train_size:]\n",
    "y_train, y_test = y[:train_size], y[train_size:]\n",
    "\n",
    "# Convert to PyTorch tensors\n",
    "import torch\n",
    "X_train_tensor = torch.FloatTensor(X_train)\n",
    "y_train_tensor = torch.FloatTensor(y_train).unsqueeze(1)\n",
    "X_test_tensor = torch.FloatTensor(X_test)\n",
    "y_test_tensor = torch.FloatTensor(y_test).unsqueeze(1)"
   ]
  },
  {
   "cell_type": "code",
   "execution_count": 85,
   "id": "ae3c92eb",
   "metadata": {},
   "outputs": [],
   "source": [
    "import torch.nn as nn\n",
    "\n",
    "class StockPredictorLSTM(nn.Module):\n",
    "    def __init__(self, input_size, hidden_size=50, num_layers=1, output_size=1):\n",
    "        super().__init__()\n",
    "        self.hidden_size = hidden_size\n",
    "        self.num_layers = num_layers\n",
    "        self.lstm = nn.LSTM(input_size, hidden_size, num_layers, batch_first=True)\n",
    "        self.fc = nn.Linear(hidden_size, output_size)\n",
    "    def forward(self, x):\n",
    "        h0 = torch.zeros(self.num_layers, x.size(0), self.hidden_size).to(x.device)\n",
    "        c0 = torch.zeros(self.num_layers, x.size(0), self.hidden_size).to(x.device)\n",
    "        out, _ = self.lstm(x, (h0, c0))\n",
    "        out = self.fc(out[:, -1, :])\n",
    "        return out\n",
    "\n",
    "input_size = len(feature_cols)\n",
    "model = StockPredictorLSTM(input_size=input_size)\n",
    "criterion = nn.MSELoss()\n",
    "optimizer = torch.optim.Adam(model.parameters(), lr=0.001)"
   ]
  },
  {
   "cell_type": "code",
   "execution_count": 86,
   "id": "b163125e",
   "metadata": {},
   "outputs": [
    {
     "name": "stdout",
     "output_type": "stream",
     "text": [
      "Epoch [10/100], Loss: 0.0067\n",
      "Epoch [20/100], Loss: 0.0045\n",
      "Epoch [30/100], Loss: 0.0023\n",
      "Epoch [40/100], Loss: 0.0003\n",
      "Epoch [50/100], Loss: 0.0003\n",
      "Epoch [60/100], Loss: 0.0000\n",
      "Epoch [70/100], Loss: 0.0001\n",
      "Epoch [80/100], Loss: 0.0000\n",
      "Epoch [90/100], Loss: 0.0000\n",
      "Epoch [100/100], Loss: 0.0000\n"
     ]
    }
   ],
   "source": [
    "epochs = 100\n",
    "for epoch in range(epochs):\n",
    "    model.train()\n",
    "    optimizer.zero_grad()\n",
    "    outputs = model(X_train_tensor)\n",
    "    loss = criterion(outputs, y_train_tensor)\n",
    "    loss.backward()\n",
    "    optimizer.step()\n",
    "    if (epoch+1) % 10 == 0:\n",
    "        print(f'Epoch [{epoch+1}/{epochs}], Loss: {loss.item():.4f}')"
   ]
  },
  {
   "cell_type": "code",
   "execution_count": 87,
   "id": "2b34907c",
   "metadata": {},
   "outputs": [
    {
     "name": "stdout",
     "output_type": "stream",
     "text": [
      "Test Loss: 0.0019\n"
     ]
    }
   ],
   "source": [
    "model.eval()\n",
    "with torch.no_grad():\n",
    "    test_outputs = model(X_test_tensor)\n",
    "    test_loss = criterion(test_outputs, y_test_tensor)\n",
    "    print(f'Test Loss: {test_loss.item():.4f}')\n",
    "    # Inverse transform: reconstruct full feature array for scaler\n",
    "    def reconstruct_for_inverse(preds, base_features, target_index):\n",
    "        arr = np.zeros((preds.shape[0], base_features.shape[1]))\n",
    "        arr[:, target_index] = preds.flatten()\n",
    "        return arr\n",
    "    predicted_prices = scaler.inverse_transform(reconstruct_for_inverse(test_outputs.numpy(), scaled_features, target_index))[:, target_index]\n",
    "    actual_prices = scaler.inverse_transform(reconstruct_for_inverse(y_test_tensor.numpy(), scaled_features, target_index))[:, target_index]"
   ]
  },
  {
   "cell_type": "code",
   "execution_count": null,
   "id": "24038798",
   "metadata": {},
   "outputs": [],
   "source": []
  },
  {
   "cell_type": "code",
   "execution_count": 88,
   "id": "a1c6942d",
   "metadata": {},
   "outputs": [
    {
     "name": "stdout",
     "output_type": "stream",
     "text": [
      "Mean Absolute Error (MAE): 92.49\n",
      "Mean Squared Error (MSE): 17704.82\n",
      "Root Mean Squared Error (RMSE): 133.06\n",
      "R^2 Score: 0.9442\n",
      "Mean Absolute Percentage Error (MAPE): 4.14%\n"
     ]
    }
   ],
   "source": [
    "from sklearn.metrics import mean_absolute_error, mean_squared_error, r2_score\n",
    "import numpy as np\n",
    "\n",
    "# Calculate metrics\n",
    "mae = mean_absolute_error(actual_prices, predicted_prices)\n",
    "mse = mean_squared_error(actual_prices, predicted_prices)\n",
    "rmse = np.sqrt(mse)\n",
    "r2 = r2_score(actual_prices, predicted_prices)\n",
    "mape = np.mean(np.abs((actual_prices - predicted_prices) / actual_prices)) * 100\n",
    "\n",
    "print(f\"Mean Absolute Error (MAE): {mae:.2f}\")\n",
    "print(f\"Mean Squared Error (MSE): {mse:.2f}\")\n",
    "print(f\"Root Mean Squared Error (RMSE): {rmse:.2f}\")\n",
    "print(f\"R^2 Score: {r2:.4f}\")\n",
    "print(f\"Mean Absolute Percentage Error (MAPE): {mape:.2f}%\")"
   ]
  },
  {
   "cell_type": "code",
   "execution_count": 89,
   "id": "a80ecc16",
   "metadata": {},
   "outputs": [
    {
     "data": {
      "image/png": "[encoded data removed]",
      "text/plain": [
       "<Figure size 1200x600 with 1 Axes>"
      ]
     },
     "metadata": {},
     "output_type": "display_data"
    }
   ],
   "source": [
    "import matplotlib.pyplot as plt\n",
    "\n",
    "plt.figure(figsize=(12,6))\n",
    "plt.plot(actual_prices, label='Actual Prices')\n",
    "plt.plot(predicted_prices, label='Predicted Prices')\n",
    "plt.title('Actual vs Predicted Closing Prices')\n",
    "plt.xlabel('Time')\n",
    "plt.ylabel('Price')\n",
    "plt.legend()\n",
    "plt.show()"
   ]
  },
  {
   "cell_type": "code",
   "execution_count": 90,
   "id": "fdf9dd20",
   "metadata": {},
   "outputs": [
    {
     "name": "stdout",
     "output_type": "stream",
     "text": [
      "Predicted price for next day: 2468.62\n"
     ]
    }
   ],
   "source": [
    "def predict_next_day(model, last_sequence, scaler, target_index):\n",
    "    model.eval()\n",
    "    with torch.no_grad():\n",
    "        last_sequence_tensor = torch.FloatTensor(last_sequence)  # shape (1, window_size, n_features)\n",
    "        prediction = model(last_sequence_tensor)\n",
    "        arr = np.zeros((1, last_sequence.shape[2]))\n",
    "        arr[0, target_index] = prediction.item()\n",
    "        predicted_price = scaler.inverse_transform(arr)[:, target_index]\n",
    "    return predicted_price[0]\n",
    "\n",
    "# Get the last sequence from your data\n",
    "last_sequence = scaled_features[-window_size:].reshape(1, window_size, len(feature_cols))\n",
    "next_day_prediction = predict_next_day(model, last_sequence, scaler, target_index)\n",
    "print(f\"Predicted price for next day: {next_day_prediction:.2f}\")"
   ]
  },
  {
   "cell_type": "code",
   "execution_count": null,
   "id": "679d0633",
   "metadata": {},
   "outputs": [],
   "source": []
  }
 ],
 "metadata": {
  "kernelspec": {
   "display_name": ".venv",
   "language": "python",
   "name": "python3"
  },
  "language_info": {
   "codemirror_mode": {
    "name": "ipython",
    "version": 3
   },
   "file_extension": ".py",
   "mimetype": "text/x-python",
   "name": "python",
   "nbconvert_exporter": "python",
   "pygments_lexer": "ipython3",
   "version": "3.13.5"
  }
 },
 "nbformat": 4,
 "nbformat_minor": 5
}
